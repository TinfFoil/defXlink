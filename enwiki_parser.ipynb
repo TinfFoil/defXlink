{
 "cells": [
  {
   "cell_type": "code",
   "execution_count": 1,
   "id": "5cf5f90f",
   "metadata": {},
   "outputs": [],
   "source": [
    "import xml.sax\n",
    "import subprocess\n",
    "import mwparserfromhell\n",
    "import re\n",
    "import os"
   ]
  },
  {
   "cell_type": "code",
   "execution_count": 2,
   "id": "d1b7d3c9",
   "metadata": {},
   "outputs": [],
   "source": [
    "# Function where ContentHandler looks for opening and closing tags title and text \n",
    "# and adds characters enclosed within them to the buffer\n",
    "# content saved to a dict with tag as key\n",
    "\n",
    "class WikiXmlHandler(xml.sax.handler.ContentHandler):\n",
    "    \"\"\"Content handler for Wiki XML data using SAX\"\"\"\n",
    "    def __init__(self):\n",
    "        xml.sax.handler.ContentHandler.__init__(self)\n",
    "        self._buffer = None\n",
    "        self._values = {}\n",
    "        self._current_tag = None\n",
    "        self._pages = []\n",
    "        self._counter = 0\n",
    "        self._flag = True\n",
    "\n",
    "    def characters(self, content):\n",
    "        \"\"\"Characters between opening and closing tags\"\"\"\n",
    "        if self._current_tag:\n",
    "            self._buffer.append(content)\n",
    "\n",
    "    def startElement(self, name, attrs):\n",
    "        \"\"\"Opening tag of element\"\"\"\n",
    "        if name in ('title', 'id', 'text', 'timestamp'):         #do we need timestamp?\n",
    "            self._current_tag = name\n",
    "            self._buffer = []\n",
    "\n",
    "    def endElement(self, name):\n",
    "        \"\"\"Closing tag of element\"\"\"\n",
    "        if name == self._current_tag:\n",
    "            #print(name, self._buffer)\n",
    "            if self._current_tag == \"id\": \n",
    "                if self._flag:\n",
    "                    self._values[name] = ' '.join(self._buffer)\n",
    "                    self._flag = False\n",
    "            else:\n",
    "                self._values[name] = ' '.join(self._buffer)\n",
    "\n",
    "        if name == 'page':\n",
    "            self._flag = True\n",
    "            self._pages.append((self._values['title'], self._values['id'], self._values['text']))\n",
    "            #print(self._pages[-1])"
   ]
  },
  {
   "cell_type": "code",
   "execution_count": 3,
   "id": "cdd4ac1e",
   "metadata": {},
   "outputs": [],
   "source": [
    "data_path = r\"/home/mmartinelli/project/corpora/wikidumps/enwiki-20210720-pages-articles-multistream.xml.bz2\"\n",
    "# Object for handling xml\n",
    "handler = WikiXmlHandler()\n",
    "\n",
    "# Parsing object\n",
    "parser = xml.sax.make_parser()\n",
    "parser.setContentHandler(handler)\n",
    "\n",
    "\n",
    "counter = 0\n",
    "\n",
    "# Iterating through compressed file\n",
    "for i, line in enumerate(subprocess.Popen(['bzcat'], stdin = open(data_path), stdout = subprocess.PIPE).stdout):\n",
    "    \n",
    "    parser.feed(line)\n",
    "    \n",
    "#    if len(handler._pages) > 70000:\n",
    "#        break\n",
    "    counter += 1\n",
    "    if counter % 10000 == 0:\n",
    "        print(\"Current loop:\", counter)\n"
   ]
  },
  {
   "cell_type": "code",
   "execution_count": 6,
   "id": "710f2d99",
   "metadata": {},
   "outputs": [
    {
     "name": "stdout",
     "output_type": "stream",
     "text": [
      "number of wikified dishes: 29\n"
     ]
    }
   ],
   "source": [
    "# Create new list and categories\n",
    "# Iterate over dump texts x[2] to find only the categories specified\n",
    "# Save titles x[0] in a list\n",
    "# Parse and clean texts\n",
    "# Join titles and texts\n",
    "\n",
    "texts = []\n",
    "categories = [\"Category:Italian cuisine\", \"Category:Cuisine of Abruzzo\", \n",
    "              \"Category:Cuisine of Apulia\", \"Category:Cuisine of Basilicata\", \"Category:Cuisine of Calabria\",\n",
    "              \"Category:Cuisine of Campania\", \"Category:Cuisine of Emilia-Romagna\", \"Category:Cuisine of Lazio\", \n",
    "              \"Category:Cuisine of Liguria\", \"Category:Cuisine of Lombardy\", \"Category:Cuisine of Marche\",\n",
    "              \"Category:Cuisine of Molise\", \"Category:Cuisine of Piedmond\", \"Category:Cuisine of Sardinia\",\n",
    "              \"Category:Cuisine of Sicily\", \"Category:Cuisine of South Tyrol\", \"Category:Cuisine of Tuscany\",\n",
    "              \"Category:Cuisine of Umbria\", \"Category:Cuisine of Veneto\",\n",
    "              \"Category:Cuisine of Aosta Valley\", \"Category:Dairy dishes\", \"Category:Egg dishes\", \n",
    "              \"Category:Flower dishes\", \"Category:Fruit dishes\", \"Category:Ginger dishes\", \"Category:Grain dishes\", \n",
    "              \"Category:Meat dishes\", \"Category:Mushroom dishes\", \"Category:Noodle dishes\", \"Category:Nut dishes\", \n",
    "              \"Category:Pasta dishes\", \"Category:Tofu dishes\", \"Category:Tuber dishes\", \"Category:Vegetable dishes\"]\n",
    "\n",
    "for x in handler._pages:\n",
    "    if any(cat in x[2] for cat in categories):\n",
    "        texts.append(x)\n",
    "        titles = [x[0] for x in texts]\n",
    "        wikified_dishes = [mwparserfromhell.parse(x[2]).strip_code().strip() for x in texts]\n",
    "        #wikified_dishes.append(texts)\n",
    "        wikified_dishes = [re.sub(r\"(== See also == | ==See also== )\\n *(.)*\", \"\", el, flags=re.DOTALL) for el in wikified_dishes]\n",
    "        wikified_dishes = [re.sub(r\"<[^>]+>\", \"\", el) for el in wikified_dishes]\n",
    "        wikified_dishes = [re.sub(r\"(  )*\", \"\", el) for el in wikified_dishes]\n",
    "        wikified_dishes = [\"\\n\".join(x) for x in zip(titles, wikified_dishes)]\n",
    "    else:\n",
    "        pass\n",
    "\n",
    "#print(len(wikified_dishes))\n",
    "print(\"number of wikified dishes: {}\".format(len(wikified_dishes)))"
   ]
  },
  {
   "cell_type": "code",
   "execution_count": 13,
   "id": "ad356798",
   "metadata": {},
   "outputs": [],
   "source": [
    "# Write files with id as file name and title\\ntext as content\n",
    "\n",
    "path = '/home/mmartinelli/persistent/en-wiki-food'\n",
    "\n",
    "\n",
    "for ids, article in zip(handler._pages, wikified_dishes):\n",
    "    ids = ids[1]\n",
    "    article =article\n",
    "    file = '{}.txt'.format(ids)\n",
    "    with open(os.path.join(path, file), 'w') as f:\n",
    "        f.write('{}'.format(article))\n",
    "\n",
    "#print(os.listdir(path))"
   ]
  }
 ],
 "metadata": {
  "kernelspec": {
   "display_name": "Python 3 (ipykernel)",
   "language": "python",
   "name": "python3"
  },
  "language_info": {
   "codemirror_mode": {
    "name": "ipython",
    "version": 3
   },
   "file_extension": ".py",
   "mimetype": "text/x-python",
   "name": "python",
   "nbconvert_exporter": "python",
   "pygments_lexer": "ipython3",
   "version": "3.7.11"
  }
 },
 "nbformat": 4,
 "nbformat_minor": 5
}
