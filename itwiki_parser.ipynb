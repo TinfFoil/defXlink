{
 "cells": [
  {
   "cell_type": "code",
   "execution_count": 1,
   "id": "7c092c0d",
   "metadata": {},
   "outputs": [
    {
     "name": "stdout",
     "output_type": "stream",
     "text": [
      "Requirement already satisfied: beautifulsoup4 in ./.local/lib/python3.7/site-packages (4.9.3)\n",
      "Requirement already satisfied: soupsieve>1.2; python_version >= \"3.0\" in ./.local/lib/python3.7/site-packages (from beautifulsoup4) (2.2.1)\n",
      "Requirement already satisfied: mwparserfromhell in ./.local/lib/python3.7/site-packages (0.6.2)\n",
      "Requirement already satisfied: subprocess32 in ./.local/lib/python3.7/site-packages (3.5.4)\n",
      "Requirement already satisfied: xml-python in ./.local/lib/python3.7/site-packages (0.4.3)\n",
      "Requirement already satisfied: attrs in /opt/tljh/user/lib/python3.7/site-packages (from xml-python) (21.2.0)\n"
     ]
    }
   ],
   "source": [
    "!pip install --user mwparserfromhell\n",
    "!pip install --user subprocess32\n",
    "!pip install --user xml-python"
   ]
  },
  {
   "cell_type": "code",
   "execution_count": 2,
   "id": "38835b68",
   "metadata": {},
   "outputs": [],
   "source": [
    "# Libraries\n",
    "import xml.sax\n",
    "import subprocess\n",
    "import mwparserfromhell"
   ]
  },
  {
   "cell_type": "code",
   "execution_count": 3,
   "id": "e8035c05",
   "metadata": {},
   "outputs": [],
   "source": [
    "# Function where ContentHandler looks for opening and closing tags title and text \n",
    "# and adds characters enclosed within them to the buffer\n",
    "# content saved to a dict with tag as key\n",
    "\n",
    "class WikiXmlHandler(xml.sax.handler.ContentHandler):\n",
    "    \"\"\"Content handler for Wiki XML data using SAX\"\"\"\n",
    "    def __init__(self):\n",
    "        xml.sax.handler.ContentHandler.__init__(self)\n",
    "        self._buffer = None\n",
    "        self._values = {}\n",
    "        self._current_tag = None\n",
    "        self._pages = []\n",
    "\n",
    "    def characters(self, content):\n",
    "        \"\"\"Characters between opening and closing tags\"\"\"\n",
    "        if self._current_tag:\n",
    "            self._buffer.append(content)\n",
    "\n",
    "    def startElement(self, name, attrs):\n",
    "        \"\"\"Opening tag of element\"\"\"\n",
    "        if name in ('title', 'text', 'timestamp'):         #do we need timestamp?\n",
    "            self._current_tag = name\n",
    "            self._buffer = []\n",
    "\n",
    "    def endElement(self, name):\n",
    "        \"\"\"Closing tag of element\"\"\"\n",
    "        if name == self._current_tag:\n",
    "            self._values[name] = ' '.join(self._buffer)\n",
    "\n",
    "        if name == 'page':\n",
    "            self._pages.append((self._values['title'], self._values['text']))"
   ]
  },
  {
   "cell_type": "code",
   "execution_count": 9,
   "id": "ba6d273e",
   "metadata": {},
   "outputs": [],
   "source": [
    "data_path = r\"/home/mmartinelli/project/corpora/wikidumps/itwiki-20210720-pages-articles-multistream.xml.bz2\"\n",
    "# Object for handling xml\n",
    "handler = WikiXmlHandler()\n",
    "\n",
    "# Parsing object\n",
    "parser = xml.sax.make_parser()\n",
    "parser.setContentHandler(handler)\n",
    "\n",
    "# Iterating through compressed file\n",
    "for i, line in enumerate(subprocess.Popen(['bzcat'], stdin = open(data_path), stdout = subprocess.PIPE).stdout):\n",
    "    parser.feed(line)\n",
    "    \n",
    "    # Stop when n articles have been found\n",
    "    if len(handler._pages) > 350:\n",
    "        break\n",
    "        \n"
   ]
  },
  {
   "cell_type": "code",
   "execution_count": 11,
   "id": "84766a1d",
   "metadata": {
    "scrolled": false
   },
   "outputs": [
    {
     "name": "stdout",
     "output_type": "stream",
     "text": [
      "['Organo a pompa', 'Antropologia', 'Agricoltura', 'Architettura', 'Astronomia', 'Archeologia subacquea', 'Analisi delle frequenze', 'Aerofoni', 'Arte', 'Abbie Hoffman', 'Adige', 'Alto Adige', 'Accordo De Gasperi-Gruber', 'Anni 1950', 'Anni 1960', 'Anni 1970', 'Anni 1980', 'Anni 1990', 'Anni 2000', 'Anni 1940', 'Anni 1930', 'Anni 1920', 'Anni 1910', 'Anni 1900', 'Anni 1890', 'Anni 1880', 'Anni 1870', 'Anni 1860', 'Anni 1850', 'Anni 1840', 'Anni 1830', 'Anni 1820', 'Anni 1810', 'Anni 1800', 'Lista di astronauti e cosmonauti', 'Anni 1790', 'Anni 1780', 'Anni 1770', 'Anni 1760', 'Anni 1260', 'Anni 1300', 'Anni 1310', 'Anni 1320', 'Anni 1330', 'Anni 1340', 'Anni 1350', 'Anni 1360', 'Anni 1370', 'Anni 1380', 'Anni 1390', 'Anni 1750', 'Anni 1740', 'Anni 1730', 'Anni 1720', 'Anni 1710', 'Anni 1700', 'Alfred Nobel', 'Sport individuale', 'Anni 1290', 'Anni 1280', 'Anni 1270', 'Anni 1250', 'Anni 1240', 'Anni 1230', 'Anni 1220', 'Anni 1210', 'Anni 1200', 'Anni 1410', 'Anni 1420', 'Anni 1430', 'Anni 1440', 'Anni 1450', 'Anni 1460', 'Anni 1470', 'Anni 1480', 'Anni 1490', 'Anni 1500', 'Wikipedia:Ambasciata', 'Anni 60', 'Anni 90', 'Anni 930', 'Anni 940', 'Anni 950', 'Anni 960', 'Anni 970', 'Anni 980', 'Anni 990', 'Anni 1000', 'Anni 1010', 'Anni 1020', 'Anni 1030', 'Anni 1040', 'Anni 1050', 'Anni 1190', 'Anni 1180', 'Anni 1170', 'Anni 1160', 'Anni 1150', 'Anni 1140', 'Anni 1130', 'Anni 1120', 'Anni 1110', 'Anni 1100', 'Anni 1090', 'Anni 1080', 'Anni 1070', 'Anni 1060', 'Austria', 'Accordi di Schengen', 'Arti', 'Anni 920', 'Anni 910', 'Anni 900', 'Anni 890', 'Anni 880', 'Anni 870', 'Anni 860', 'Anni 850', 'Anni 840', 'Anni 830', 'Anni 820', 'Anni 810', 'Anni 800', 'Anni 790', 'Anni 780', 'Anni 770', 'Anni 760', 'Anni 750', 'Anni 740', 'Anni 730', 'Anni 720', 'Anni 710', 'Anni 700', 'Anni 690', 'Anni 680', 'Anni 670', 'Anni 660', 'Anni 650', 'Anni 640', 'Anni 630', 'Anni 620', 'Anni 610', 'Anni 600', 'Anni 590', 'Anni 580', 'Anni 570', 'Anni 560', 'Anni 550', 'Anni 540', 'Anni 530', 'Anni 520', 'Anni 510', 'Anni 500', 'Anni 490', 'Anni 480', 'Anni 470', 'Anni 460', 'Anni 450', 'Anni 440', 'Anni 430', 'Anni 420', 'Anni 410', 'Anni 400', 'Anni 390', 'Anni 380', 'Anni 370', 'Anni 360', 'Anni 350', 'Anni 340', 'Anni 330', 'Anni 320', 'Anni 310', 'Anni 300', 'Anni 290', 'Anni 280', 'Anni 270', 'Anni 260', 'Anni 250', 'Anni 240', 'Anni 230', 'Anni 220', 'Anni 210', 'Anni 200', 'Anni 190', 'Anni 180', 'Anni 170', 'Anni 160', 'Anni 150', 'Anni 140', 'Anni 130', 'Anni 120', 'Anni 110', 'Anni 100', 'Anni 80', 'Anni 70', 'Anni 50', 'Anni 40', 'Anni 30', 'Anni 20', 'Anni 10', 'Anni 0', 'Anni 1510', 'Anni 1520', 'Anni 1530', 'Anni 1540', 'Anni 1550', 'Anni 1560', 'Anni 1570', 'Anni 1580', 'Anni 1590', 'Anni 1600', 'Anni 1610', 'Anni 1620', 'Anni 1630', 'Anni 1640', 'Anni 1650', 'Anni 1660', 'Anni 1670', 'Anni 1680', 'Anni 1690', 'Albanella', 'Anatidi', 'Anatra', 'Adam Smith', 'Anatidae', 'Anseriformi', 'Anseriformes', 'Uccelli', 'Angiospermae', 'Astronomo', 'Augusto Pinochet', 'America del nord', 'America del Nord', 'Abete', 'Abies', 'Abies alba', 'Picea abies', 'America centrale', 'Avies', 'Anas', 'Anatinae', 'Analisi della varianza', 'Antoine de Saint-Exupéry', 'Aeroporto', 'Anas (zoologia)', 'Anno bisestile', 'Aki Kaurismäki', 'Wikipedia:Trama', 'Abramo Abulafia', 'Pernis apivorus', 'Albino Luciani', 'Al secolo', 'Animalia', 'Algol', 'A4', 'Acronimo', 'Alga', 'Aldo Moro', 'AbiWord', 'Abraham de Moivre', 'Albanella (zoologia)', 'Arcipelago toscano', 'Amiga', 'AmigaOS', 'Agropoli', 'Anno europeo delle persone con disabilità', 'Anno', 'Alan Kay', 'Aix galericulata', 'Approssimazione di Stirling', 'Accelerazione', 'Antonio Fogazzaro', 'Alpi', 'Anno luce', 'Alba Longa', 'Assistenza infermieristica', 'Arti visive', 'Assembler', 'Linguaggio assembly', 'Andriano', 'Appiano sulla Strada del Vino', 'Advaita vedanta', 'Ātman', 'Arcevia', 'Alan Turing', 'Action directe (terrorismo)', 'Aristocrazia', 'Alba Adriatica', 'Azoto', 'Wikipedia:Attendibilità di Wikipedia', 'Arzano', 'Andrea di Raviscanina', 'Ancona', 'Annelida', 'Augustin-Louis Cauchy', 'Arthropoda', 'Arachnida', 'Atletica leggera', 'Automobilismo', 'Autoecologia', 'Acidi nucleici', 'Adulto', 'Afelio', 'Accattone', 'Alfredo Binda', 'Arancia meccanica', 'Afnio', 'Apple II', 'Anomalia genomica', 'Argento', 'Arsenico', 'Antimonio', 'Argon', 'Adenosina trifosfato', 'Assisi', 'Alfred Hitchcock', 'Alain Delon', 'Adrien-Marie Legendre', 'Apterigi', 'Apterigidi', 'Astato', 'Attinio', 'Augusto (disambigua)', 'Aepyornis', 'Aloe', 'Americio', 'Acqualagna', 'Andorno Micca', 'Anatomia', 'Agrigento', 'Albero del Mopane', 'Alessandro La Marmora', 'Angela e Luciana Giussani', 'Aeroplano', 'Alba (disambigua)', \"Almaviva, o sia l'inutile precauzione\", 'Anna Maria Pierangeli', 'Avola', 'Anguillara Sabazia', 'Abraham Wald', 'Storia di Alitalia', 'Air France', 'Alfabeto', 'Aa', 'Alfiere (scacchi)', 'Aachen', 'Aalesund', 'Antisemitismo', 'Aaa', 'AAAS', 'Äänekoski']\n"
     ]
    }
   ],
   "source": [
    "# Get titles of wiki articles\n",
    "title_lst = [x[0] for x in handler._pages]\n",
    "print(title_lst)"
   ]
  },
  {
   "cell_type": "code",
   "execution_count": 7,
   "id": "1f1c074f",
   "metadata": {},
   "outputs": [
    {
     "name": "stdout",
     "output_type": "stream",
     "text": [
      "<class 'mwparserfromhell.wikicode.Wikicode'>\n",
      "{{nd| il romanzo del 1962 scritto da [[Anthony Burgess]]|[[Arancia meccanica (romanzo)]]}} \n",
      " {{Film \n",
      " |titolo italiano = Arancia meccanica \n",
      " |immagine = Clockwork Orange Trailer poster.png \n",
      " |didascalia = Immagine del ''trailer'' in lingua inglese \n",
      " |titolo originale = A Clockwork Orange \n",
      " |lingua originale = [[Lingua inglese|inglese]], [[nadsat]] \n",
      " |paese = [[Stati Uniti d'America]] \n",
      " |paese 2 = [[Regno Unito]] \n",
      " |anno uscita = [[1971]] \n",
      " |durata = 136 min \n",
      " |aspect ratio = 1,37:1 < small > (negativo) < /small > < br / > 1,66:1 < small > (cinema europei) < /small > < br / > 1,33:1 < small > (home video) < /small >  1,66:1 < small > (Blu-ray) < /small > \n",
      " |genere = Grottesco \n",
      " |genere 2 = Drammatico \n",
      " |genere 3 = Thriller \n",
      " |genere 4 = fantascienza \n",
      " |regista = [[Stanley Kubrick]] \n",
      " |soggetto = [[Anthony Burgess]]  < small > [[Arancia meccanica (romanzo)|(romanzo)]] < /small > \n",
      " |sceneggiatore = Stanley Kubrick \n",
      " |produttore = Stanley Kubrick \n",
      " |produttore esecutivo = [[Max L. Raab]], \n"
     ]
    }
   ],
   "source": [
    "# Create the nth wiki article\n",
    "wiki = mwparserfromhell.parse(handler._pages[305][1])    # [n][0] gets title tag, [n][1] gets text tag\n",
    "print(type(wiki))\n",
    "\n",
    "# Print first nth lines \n",
    "# WARNING: not a string but mwparserfromhell.wikicode.Wikicode object\n",
    "print(wiki[:1000])"
   ]
  },
  {
   "cell_type": "code",
   "execution_count": 8,
   "id": "1e8faba1",
   "metadata": {},
   "outputs": [
    {
     "data": {
      "text/plain": [
       "\"Arancia meccanica (A Clockwork Orange) è un film del 1971 scritto, prodotto e diretto da Stanley Kubrick. \\n \\n Tratto dall'omonimo romanzo distopico scritto da Anthony Burgess nel 1962, prefigura, appoggiandosi a uno stile sociologico e politico, una società votata a un'esasperata violenza, soprattutto nei giovani, e a un condizionamento del pensiero sistematico. \\n \\n Forte di quattro candidature agli Oscar del 1972 come miglior film, miglior regia, miglior sceneggiatura non originale e miglior montaggio, presentato lo stesso anno alla Mostra di Venezia, Decisivo per la riuscita del film fu anche l'apporto di Malcolm McDowell nel ruolo di Alex, pronto e disponibile a tutto, al punto che s'incrinò una costola e subì l'abrasione delle cornee durante le riprese del film. < ref >  < /ref > \\n \\n Quando fu distribuita sul circuito cinematografico, all'inizio degli anni settanta, la pellicola destò scalpore, con una schiera di ammiratori pronti a gridare al capolavoro, ma anche con una forte cor\""
      ]
     },
     "execution_count": 8,
     "metadata": {},
     "output_type": "execute_result"
    }
   ],
   "source": [
    "# Print clean text\n",
    "# WARNING: not a string but mwparserfromhell.wikicode.Wikicode object\n",
    "wiki.strip_code().strip()[:1000]"
   ]
  },
  {
   "cell_type": "code",
   "execution_count": 24,
   "id": "0261e845",
   "metadata": {},
   "outputs": [],
   "source": [
    "import re\n",
    "\n",
    "def process_article(title, text, timestamp, template = 'Film'):\n",
    "    \"\"\"Process a wikipedia article looking for template\"\"\"\n",
    "    \n",
    "    # Create a parsing object\n",
    "    wikicode = mwparserfromhell.parse(text)\n",
    "    \n",
    "    # Search through templates for the template\n",
    "    matches = wikicode.filter_templates(matches = template)\n",
    "    \n",
    "    # Filter out errant matches\n",
    "    matches = [x for x in matches if x.name.strip_code().strip().lower() == template.lower()]\n",
    "    \n",
    "    if len(matches) >= 1:\n",
    "        # template_name = matches[0].name.strip_code().strip()\n",
    "\n",
    "        # Extract information from infobox\n",
    "        properties = {param.name.strip_code().strip(): param.value.strip_code().strip() \n",
    "                      for param in matches[0].params\n",
    "                      if param.value.strip_code().strip()}\n",
    "\n",
    "        # Extract internal wikilinks\n",
    "        wikilinks = [x.title.strip_code().strip() for x in wikicode.filter_wikilinks()]\n",
    "\n",
    "        # Extract external links\n",
    "        exlinks = [x.url.strip_code().strip() for x in wikicode.filter_external_links()]\n",
    "\n",
    "        # Find approximate length of article\n",
    "        text_length = len(wikicode.strip_code().strip())\n",
    "\n",
    "        return (title, properties, wikilinks, exlinks, timestamp, text_length)"
   ]
  },
  {
   "cell_type": "code",
   "execution_count": 25,
   "id": "d3df44fe",
   "metadata": {},
   "outputs": [],
   "source": [
    "class WikiXmlHandler(xml.sax.handler.ContentHandler):\n",
    "    \"\"\"Parse through XML data using SAX\"\"\"\n",
    "    def __init__(self):\n",
    "        xml.sax.handler.ContentHandler.__init__(self)\n",
    "        self._buffer = None\n",
    "        self._values = {}\n",
    "        self._current_tag = None\n",
    "        self._film = []\n",
    "        self._article_count = 0\n",
    "        self._non_matches = []\n",
    "\n",
    "    def characters(self, content):\n",
    "        \"\"\"Characters between opening and closing tags\"\"\"\n",
    "        if self._current_tag:\n",
    "            self._buffer.append(content)\n",
    "\n",
    "    def startElement(self, name, attrs):\n",
    "        \"\"\"Opening tag of element\"\"\"\n",
    "        if name in ('title', 'text', 'timestamp'):\n",
    "            self._current_tag = name\n",
    "            self._buffer = []\n",
    "\n",
    "    def endElement(self, name):\n",
    "        \"\"\"Closing tag of element\"\"\"\n",
    "        if name == self._current_tag:\n",
    "            self._values[name] = ' '.join(self._buffer)\n",
    "\n",
    "        if name == 'page':\n",
    "            self._article_count += 1\n",
    "            # Search through the page to see if the page is a book\n",
    "            film = process_article(**self._values, template = 'Film')\n",
    "            # Append to the list of books\n",
    "            if film:\n",
    "                self._film.append(film)"
   ]
  },
  {
   "cell_type": "code",
   "execution_count": 26,
   "id": "1c26ceef",
   "metadata": {},
   "outputs": [
    {
     "name": "stdout",
     "output_type": "stream",
     "text": [
      "Searched through 306 articles to find 3 films.\n"
     ]
    }
   ],
   "source": [
    "# Object for handling xml\n",
    "handler = WikiXmlHandler()\n",
    "\n",
    "# Parsing object\n",
    "parser = xml.sax.make_parser()\n",
    "parser.setContentHandler(handler)\n",
    "\n",
    "for i, line in enumerate(subprocess.Popen(['bzcat'], \n",
    "                         stdin = open(data_path), \n",
    "                         stdout = subprocess.PIPE).stdout):\n",
    "    parser.feed(line)\n",
    "    \n",
    "    # Stop when 3 articles have been found\n",
    "    if len(handler._film) > 1:\n",
    "        break\n",
    "        \n",
    "print(f'Searched through {handler._article_count} articles to find 3 films.')"
   ]
  }
 ],
 "metadata": {
  "kernelspec": {
   "display_name": "Python 3 (ipykernel)",
   "language": "python",
   "name": "python3"
  },
  "language_info": {
   "codemirror_mode": {
    "name": "ipython",
    "version": 3
   },
   "file_extension": ".py",
   "mimetype": "text/x-python",
   "name": "python",
   "nbconvert_exporter": "python",
   "pygments_lexer": "ipython3",
   "version": "3.7.11"
  }
 },
 "nbformat": 4,
 "nbformat_minor": 5
}
