{
 "cells": [
  {
   "cell_type": "code",
   "execution_count": 19,
   "id": "0694e366",
   "metadata": {},
   "outputs": [],
   "source": [
    "import xml.sax\n",
    "import subprocess\n",
    "import mwparserfromhell\n",
    "import re"
   ]
  },
  {
   "cell_type": "code",
   "execution_count": 2,
   "id": "33ae1ef7",
   "metadata": {},
   "outputs": [],
   "source": [
    "# Function where ContentHandler looks for opening and closing tags title and text \n",
    "# and adds characters enclosed within them to the buffer\n",
    "# content saved to a dict with tag as key\n",
    "\n",
    "class WikiXmlHandler(xml.sax.handler.ContentHandler):\n",
    "    \"\"\"Content handler for Wiki XML data using SAX\"\"\"\n",
    "    def __init__(self):\n",
    "        xml.sax.handler.ContentHandler.__init__(self)\n",
    "        self._buffer = None\n",
    "        self._values = {}\n",
    "        self._current_tag = None\n",
    "        self._pages = []\n",
    "\n",
    "    def characters(self, content):\n",
    "        \"\"\"Characters between opening and closing tags\"\"\"\n",
    "        if self._current_tag:\n",
    "            self._buffer.append(content)\n",
    "\n",
    "    def startElement(self, name, attrs):\n",
    "        \"\"\"Opening tag of element\"\"\"\n",
    "        if name in ('title', 'text', 'timestamp'):         #do we need timestamp?\n",
    "            self._current_tag = name\n",
    "            self._buffer = []\n",
    "\n",
    "    def endElement(self, name):\n",
    "        \"\"\"Closing tag of element\"\"\"\n",
    "        if name == self._current_tag:\n",
    "            self._values[name] = ' '.join(self._buffer)\n",
    "\n",
    "        if name == 'page':\n",
    "            self._pages.append((self._values['title'], self._values['text']))"
   ]
  },
  {
   "cell_type": "code",
   "execution_count": 3,
   "id": "c14ab9f6",
   "metadata": {},
   "outputs": [],
   "source": [
    "data_path = r\"/home/mmartinelli/project/corpora/wikidumps/itwiki-20210720-pages-articles-multistream.xml.bz2\"\n",
    "# Object for handling xml\n",
    "handler = WikiXmlHandler()\n",
    "\n",
    "# Parsing object\n",
    "parser = xml.sax.make_parser()\n",
    "parser.setContentHandler(handler)\n",
    "\n",
    "lst = []\n",
    "# Iterating through compressed file\n",
    "for i, line in enumerate(subprocess.Popen(['bzcat'], stdin = open(data_path), stdout = subprocess.PIPE).stdout):\n",
    "    \n",
    "    parser.feed(line)\n",
    "    # Stop after nth article reached\n",
    "    if len(handler._pages) > 20000:\n",
    "        break"
   ]
  },
  {
   "cell_type": "code",
   "execution_count": 4,
   "id": "31b4c7e2",
   "metadata": {},
   "outputs": [
    {
     "name": "stdout",
     "output_type": "stream",
     "text": [
      "3\n"
     ]
    }
   ],
   "source": [
    "# Append all articles that have the strings defined in categories in wikified_dishes list \n",
    "# the list has tuples with [0] being the title and [1] being the text\n",
    "\n",
    "wikified_dishes = []\n",
    "categories = [\"Categoria:Antipasti\", \"Categoria:Contorni\", \"Categoria:Dolci\", \"Categoria:Involtini\", \n",
    "              \"Categoria:Piatti unici\", \"Categoria:Primi piatti\", \"Categoria:Secondi piatti\"]\n",
    "for x in handler._pages:\n",
    "    if any(cat in x[1] for cat in categories):\n",
    "        wikified_dishes.append(x)\n",
    "    else:\n",
    "        pass\n",
    "print(len(wikified_dishes))\n",
    "#print(wikified_dishes)\n",
    "        "
   ]
  },
  {
   "cell_type": "code",
   "execution_count": 5,
   "id": "65d80743",
   "metadata": {},
   "outputs": [],
   "source": [
    "# Create title list and append only titles (element 0 of tuples in wikified_dishes)\n",
    "\n",
    "title_lst = [el[0] for el in wikified_dishes]\n",
    "#print(title_lst)\n",
    "\n",
    "# Create text list and append only texts (element 1 of tuples in wikified_dishes)\n",
    "\n",
    "text_lst = [el[1] for el in wikified_dishes]\n",
    "#print(text_lst)"
   ]
  },
  {
   "cell_type": "code",
   "execution_count": 6,
   "id": "6fbb7174",
   "metadata": {},
   "outputs": [],
   "source": [
    "# Parse text list\n",
    "\n",
    "text_lst = [mwparserfromhell.parse(text) for text in text_lst]\n",
    "#print(text_lst)\n"
   ]
  },
  {
   "cell_type": "code",
   "execution_count": 7,
   "id": "28295f6b",
   "metadata": {},
   "outputs": [],
   "source": [
    "# Clean texts (although no apparent change from mwparserfromhell.parse())\n",
    "\n",
    "text_lst = [text.strip_code().strip() for text in text_lst]\n",
    "#print(text_lst)\n"
   ]
  },
  {
   "cell_type": "code",
   "execution_count": 8,
   "id": "666a19c8",
   "metadata": {},
   "outputs": [],
   "source": [
    "# Clean texts from 'Note' until the end and other undeleted tags with regex\n",
    "\n",
    "clean_text_lst = [re.sub(r\"(== Note == | ==Note== )\\n *(.)*\", \"\", el, flags=re.DOTALL) for el in text_lst]\n",
    "clean_text_lst = [re.sub(r\"( < ref > | < /ref > )\", \"\", el) for el in clean_text_lst]\n",
    "clean_text_lst = [re.sub(r\"<[^>]+>\", \"\", el) for el in clean_text_lst]\n",
    "#print(clean_text_lst)"
   ]
  },
  {
   "cell_type": "code",
   "execution_count": 9,
   "id": "4b8569ae",
   "metadata": {},
   "outputs": [
    {
     "name": "stdout",
     "output_type": "stream",
     "text": [
      "['Samsa\\nLa samsa è un dolce tipico della cucina algerina e tunisina costituito da alcuni strati di pasta simili alla sfoglia (malsouka) e farcito con mandorle tritate e semi di sesamo  , poi fritto o cotto al forno. Si prepara uno sciroppo di zucchero nel quale si mette la samsa per zuccherarla. La samsa oppure lo sciroppo devono essere ancora caldi per permettere un buon assorbimento   . \\n \\n ', 'Kebab\\nIl kebab  (pron. ; in arabo   كباب  , kebāb,  \" carne arrostita \" ; in turco kebap) è un piatto a base di carne, tipico della cucina turca, divenuto popolare in tutto il mondo grazie alle immigrazioni dal Medio Oriente. \\n \\n == Tipi principali == \\n thumb|Döner kebap a Istanbul \\n Il tipo di kebab più famoso nel mondo è probabilmente il döner kebab. Il fatto che in Turchia venga chiamato anche con un\\'espressione che significa  \" kebab da passeggio \" , per l\\'abitudine di mangiarlo anche mentre si cammina per strada, non ha nulla a che vedere con il suo nome, dal momento che döner kebab è traducibile come  \" kebab che gira \" , con riferimento allo spiedo verticale rotante sul quale la carne viene infilzata e fatta abbrustolire, facendola ruotare sull\\'asse del girarrosto. \\n \\n Tra le varianti più conosciute e consumate il döner kebab è affiancato al dürüm kebab. Mentre il primo è di solito servito in un panino, il dürüm kebab viene messo in una piadina; sono entrambi accompagnati da verdure e salse apposite per insaporire la carne. \\n \\n Viene indicato anche con il termine greco γύρος (ghiros, con lo stesso significato di döner, ruotante) o l\\'arabo shawarma (  شاورما  , shāwarmā, derivante dal turco çevirme,  \" movimento ruotante \" ). \\n \\n La cucina turca in età ottomana si diffuse anche nel Mediterraneo, specie nelle popolazioni dell\\'Africa settentrionale, e questa tecnica di cottura fu appresa dalle comunità stanziali che spesso accoglievano quelle nomadi di passaggio. In Palestina essa si è affermata anche nella cucina israeliana (שווארמה). \\n \\n L\\'origine del kebab è legata alla poca disponibilità di combustibile per la cottura in molte zone in Oriente, che rendeva difficoltosa la cottura dei cibi di grandi dimensioni; inoltre, in città era più facile ottenere tagli di carne di piccola pezzatura in una macelleria. \\n \\n La parola  \" kebab \"  è essenzialmente di origine persiana: la tradizione araba vuole che il piatto sia stato inventato nel medioevo da soldati persiani che usavano le loro spade per grigliare la carne sul fuoco in campo aperto. \\n \\n Secondo Ibn Battuta, un viaggiatore marocchino, in India, ai tempi del Sultanato di Delhi (1206-1526 d.C.) il kebab non solo veniva servito nei palazzi reali, ma anche la gente comune lo usava per colazione con il naan, un pane lievitato e cotto al forno. \\n Una variante più antica del kebab (in greco: obeliskos) è attestata in Grecia dall\\'VIII secolo a.C. negli scritti di Omero e nelle opere classiche di Aristofane, Senofonte e Aristotele. \\n \\n Negli Stati Uniti il termine più diffuso è shish kebab, anche se tale nome dovrebbe essere più propriamente assegnato agli spiedini. In Germania, per la forte presenza turca nel Paese, il suo nome invece è semplicemente döner. \\n \\n Si trovano dunque numerose versioni del kebab, a seconda dei paesi e delle culture, e lo stesso termine può riferirsi a differenti tradizioni culinarie. \\n \\n == Döner kebab == \\n [[File:Dürüm Döner.jpg|thumb|Panino arabo con dürüm kebab. Questo panino si differenzia dal döner per l\\'utilizzo della yufka, altro tipo di pane arabo, più simile a una piadina.]] \\n \\n Il tipico metodo di cottura del döner kebab è quello con lo spiedo verticale rotante.\\n \\n La carne (solitamente di agnello, di manzo o di pollo, più economico, mai di maiale in quanto vietata dall\\'Islam), tagliata a fettine, viene sagomata e infilzata nello spiedo verticale, fino a formare un grosso cilindro rastremato verso il basso alla cui sommità vengono poi infilzate parti grasse che, sciogliendosi e scolando, evitano l\\'eccessivo abbrustolimento ed essiccamento della carne. Lo spiedo viene poi fatto ruotare vicino a una fonte di calore, che una volta consisteva in brace rovente sistemata in griglie disposte verticalmente intorno allo spiedo e che oggi è invece un\\'apposita macchina che produce calore tramite resistenze elettriche o bruciatori a gas. \\n \\n Prima di essere predisposta e cotta la carne viene condita o marinata; le erbe o le spezie usate variano a seconda del luogo, e vi si può trovare una vasta gamma di sapori del mediterraneo: origano, menta, peperoncino, cannella, cumino, coriandolo, aceto, ecc. \\n \\n Il taglio della carne procede dall\\'esterno del cilindro di carne, a mano a mano che questo cuoce, verso l\\'interno, con un movimento che va dal basso verso l\\'alto per fare sì che il grasso sciolto che cola da sopra resti il più possibile sulla carne impregnandola e impedendo che, abbrustolendosi, diventi troppo secca e dura. Una volta il taglio veniva effettuato manualmente tramite un coltello affilatissimo, mentre ora si esegue quasi sempre facendo scorrere sul cilindro una macchinetta elettrica con lama rotante che asporta sottili fettine. \\n \\n La carne così preparata viene servita all\\'interno di panini e piadine o collocata su un piatto. Tradizionalmente per il panino si usa il pane arabo. Come condimento si aggiungono verdure miste e varie salse: le più tradizionali sono la harissa piccante, l\\'hummus a base di ceci e tahini (pasta di sesamo) e il tzatziki fatto con yogurt e aglio. Ben presto però i venditori iniziarono a offrire anche salse come la barbecue, la maionese o il ketchup, per venire incontro alle richieste dei clienti occidentali. \\n \\n In Europa questa specialità ha trovato una particolare diffusione nella città di Berlino grazie a Kadir Nurman, considerato l\\'inventore del panino comunemente noto come kebab. La capitale tedesca è rinomata per il gusto speciale e l\\'economicità dei propri döner. Questo sviluppo e diffusione sono stati favoriti dall\\'elevato numero di immigrati turchi (non solo nella capitale ma in tutta la Germania occidentale) che spesso gestiscono i numerosissimi imbiss ( \" chiosco \" ) presenti in città.\\n \\n == Altre varietà di kebab == \\n Tra i vari tipi di kebab i più rinomati sono quelli da barbecue, per esempio l  \\'  Adana kebabı e l  \\'  Urfa kebabı, che prendono nome dalle due località da cui provengono, il primo più piccante, condito con abbondante peperoncino rosso, il secondo riccamente speziato, serviti con focaccine di grano, insalata, cipolle e grano spezzettato cotto e poi asciugato (il burgur). Entrambi si possono trovare anche avvolti in una focaccia, in versione da passeggio, incartati (da cui il nome dürüm kebabı,  \" kebab incartato \" ). \\n \\n Il principe dei kebab è probabilmente però l  \\'  Iskender kebabı, creato a Bursa intorno all\\'anno 1900 da un cuoco che ha trasmesso alla sua creazione il suo nome, Iskender (corrispondente all\\'italiano Alessandro), la cui caratteristica principale è una salsa a base di pomodoro, yogurt e burro fuso. Esistono infine molte altre versioni, alcune a base di pollo (tavuk kebabı), altre con l\\'aggiunta di verdure come le melanzane (patlıcanlı kebabı), le cipolle (soğanlı kebabı) o i pomodori (domatesli kebabı). \\n \\n == Le varietà di kebab == \\n  \\n thumb|Piatto di kebab (in un ristorante di Vigo, in Spagna). Il grande successo, dovuto al gusto e all\\'economicità della pietanza, lo ha fatto diffondere in Europa. \\n \\n === Turchia === \\n * Adana kebabı ( \" kebab di Adana \" ), o kıyma kebabı: kebab con carne e grasso di coda d\\'agnello (proporzioni 5 a 1) tritata a mano (zirh), mescolata con concentrato di peperone dolce e peperonicino piccante tritato, su uno spiedino piatto e largo (shish); associata alla regione di Adana ma molto popolare in tutta la Turchia  M. Günür, Turkish Cookery, ISBN 975-479-100-7.. \\n * Alinazik: kebab di carne macinata saltata in casseruola, con l\\'aggiunta di aglio, yogurt e melanzane. \\n * Ali Paşa kebabı ( \" kebab di Alì Pascià \" ): agnello tagliato a cubetti con pomodoro, cipolle e prezzemolo avvolta nella pasta fillo  . \\n * Altı ezmeli tike kebabı \\n * Bahçıvan kebabı ( \" kebab alla giardiniera \" ): spalla disossata d\\'agnello mescolata con cipolle tritate e purè di pomodoro. \\n * Beyti: carne tritata di agnello o manzo, condita e grigliata su uno spiedo, spesso servita avvolta nel pane lavash e ricoperta di salsa di pomodoro e yogurt. \\n * Beykoz kebabı: agnello aromatizzato con pomodoro e cipolla, avvolto in fettine di melanzana e guarnito con cervella d\\'agnello  . \\n * Biber kebabı \\n * Orman kebabı \\n * Bomonti kebap \\n * Bostan kebabı: agnello e melanzane in casseruola  . \\n * Buğu kebabı ( \" kebab al vapore \" ): cotto a fuoco basso fino a che la carne non rilascia la sua umidità e non la riassorbe. \\n * Büryan pilavı \\n * Bıldırcın kebap \\n * Cağ kebabı o Tortum kebabı ( \" kebab allo spiedo \" ): cubetti di agnello arrostito prima su un cag (uno spiedo rotante orizzontale) e poi su uno spiedo, una specialità della regione di Erzurum. \\n * Cağırtlak kebabı \\n * Çeltik kebabı \\n * Ciğerli kağıt kebabı ( \" kebab incartato al fegato \" ): kebab al fegato d\\'agnello mescolato con carne e marinato con timo, prezzemolo e aneto. \\n * Çardak kebabı: carne d\\'agnello farcita in una crêpe. \\n * Çiftlik kebabı \\n * Çökertme kebabı: kebab al lombo di vitello farcito con yogurt e patate. \\n * Çömlek kebabı ( \" kebab in scodella di terracotta \" ): carne e verdure cotte in casseruola (detta güveç in turco) con melanzane, carote, scalogni, fagioli, pomodori e pepe verde. \\n * Çöp kebabı \\n * Dizme patlıcan kebabı \\n * Döner kebabı \\n * Enginarlı yuva kebabı \\n * Firinda patlican kebabi \\n * Fırın kebabı \\n * Fıstıklı kebap \\n * Hünkâri kebabi ( \" kebab del sultano \" ): fette di carne d\\'agnello mescolata con patlican begendi (purè di melanzane), basilico, timo e foglie d\\'alloro  . \\n * İncik kebabı \\n * İskender kebabı ( \" kebab di Iskender \" ): döner kebab servito con yogurt, salsa di pomodoro e burro. Piatto originario di Bursa, fu creato da Iskender Efendi nel 1867 ispirandosi al Cag kebab e cambiandolo da orizzontale a verticale. \\n * İstim kebabı o İstim kebap ( \" kebab al vapore \" ): un\\'altra versione del kebab alle melanzane, senza la buccia e marinata in olio di semi di girasole   . \\n * İçli Adana kebabı \\n * Kabaklı kebap \\n * Kaburga kebap \\n * Kazan kebabı \\n * Kağıt kebabı: agnello cotto al cartoccio  . \\n * Kemalzade kebabı \\n * Kemeli kıyma kebabı \\n * Kiliç sis: spiedino di pescespada  . \\n * Kilis kebabı \\n * Kremalı tas kebap \\n * Kuyu kebabı: preparato con carne di capra, è una specialità della regione di Aydın, simile al tandir kebab. \\n * Kuzu incik kebabı ( \" kebab alla zampa d\\'agnello \" ): zampe d\\'agnello mescolate con melanzane sbucciate e pomodori tagliati a pezzetti, crema, sale e pepe. \\n * Köfteli kebap o Köfte kebabı o Shish köfte: palline di carne d\\'agnello tritata con erbe aromatiche (spesso prezzemolo e menta) infilate in uno stecchino e grigliate. \\n * Lavaş ekmekli Yayla kebabı \\n * Manisa kebabı: questa versione della regione di Manisa è più piccola e piatta dello shish kebab, viene presentata su fette di pane pita e aromatizzata con il burro e farcito con pomodoro, aglio e pepe verde. \\n * Orman kebabı ( \" kebab alla boscaiola \" ): carne d\\'agnello con l\\'osso tagliata in grossi pezzi e mescolata con carote, patate e piselli  . \\n * Örtülü kebap \\n * Pastırmalı tarak kebabı \\n * Patates kebabı ( \" kebab alle patate \" ): manzo o pollo mescolato con patate, cipolle salsa di pomodoro e foglie di alloro. \\n * Patates püreli kebap \\n * Patlıcan kebabı o Patlıcanlı kebap ( \" kebab alle melanzane \" ): kebab di carne marinata in spezie e servita con melanzane, pita calda e salsa di yoghurt  . \\n * Patlıcanlı kuzu kebabı \\n * Patlıcanlı paşa kebabı \\n * Patlıcanlı saksı kebabı \\n * Patlıcanlı tencere kebabı \\n * Piliç avcı kebabı \\n * Piliç kebabı \\n * Piliçli patlıcan saltanat kebabı \\n * Püreli beykoz kebabı \\n * Ramazan kebabi ( \" kebab di Ramadan \" ): carne mescolata con yogurt, pomodoro e aglio farcita di menta fresca o di contorno su pita. \\n * Sahan kebabı \\n * Sarımsak kebabı \\n * Sebzeli kebabı o Sebzeli kebap \\n * Simit kebabı \\n * Sivas kebabi ( \" kebab di Sivas \" ): associato alla regione di Sivas, simile al tokat kebab ma usando preferibilmente le cotolette d\\'agnello e senza patate. \\n * Soğan kebabı \\n * Sırık kebabı \\n * Susuz kebap ( \" kebab senz\\'acqua \" ): cucinato dopo avere tolto dalla carne i fluidi in eccesso strofinandola con sale e cannella in una casseruola. \\n * Şam kebabı \\n * Şeftali kebabı \\n * Şiş kebabı (noto in Occidente come  \" shish kebab \" ): preparato con pesce, agnello o pollo su bacchette di metallo o di canna e grigliato   . \\n ** Çöp şiş kebabı ( \" kebab allo spiedino \" ): specialità di Selçuk e Germencik vicino Efeso, carne disossata battuta con pomodori e aglio marinato con pepe nero, timo e olio su spiedi di legno  . \\n ** Kuzu şiş kebabı: shish preparato con carne marinata di agnello da latte. \\n ** Şiş tavuk o tavuk şiş kebabı: pollo marinato nello yogurt e grigliato su uno stecchino  A. Algar, The Complete Book of Turkish Cooking, 1985, ISBN 0-7103-0334-3.. \\n thumb|Vari kebab: şiş tavuk, köfteli kebab e şiş kebab classico \\n * Talaş kebabı ( \" kebab alla segatura \" ): carne d\\'agnello tagliata a dadi, mescolata con cipolle gratinate, rosolatat mescolata con pasta di farina. \\n * Tandır kebabı ( \" kebab tanduri \" ): pezzi di carne d\\'agnello (talvolta un agnello intero) cotto dentro un forno detto tandir, che richiede alcune ore di cottura. Servito con pane e cipolle crude  . \\n * Tas kebabı ( \" kebab in terrina \" ): kebab stufato in una terrina, iniziando con la cottura delle verdure in burro usando un metodo detto yaga vurmak, ( \" infusione di burro \" ), prima che la carne stessa sia cucinata nel medesimo grasso. \\n * Tavuklu kebap \\n * Tencere kebabı \\n * Tepsi kebabı \\n * Tepside çubuk kebabı \\n * Testi kebabı ( \" kebab in giara di terracotta \" ): gli ingredienti sono simili al çömlek kebabi, preparato in un testi ( \" giara \" ,  \" brocca \" ) invece di un güveç, generalmente diffuso nell\\'Anatolia centrale e nella regione centroccidentale del Mar Nero. \\n * Tike kebabı \\n * Tire kebabı \\n * Tokat kebabı: associato alla regione di Tokat, è fatto con carne di vitello marinata in olio d\\'oliva, melanzane, pomodori, patate, cipolle, aglio e pane pita. \\n * Topkapı kebabı \\n * Urfa kebabı: originario di Urfa, simile all\\'Adana kebab ma non speziato. \\n * Yalancı İskender \\n * Yanardağ kebabı \\n * Yayla kebabı \\n * Yenidünya kebabı \\n * Yoğurtlu kebap \\n * Yufkalı saç kebab \\n * Yörük kebabı \\n ===Germania=== \\n *Türkischer Döner Kebab mit soße und salat \\n *Alanya Kebab \\n *Serbische fleischkebab (o Ćevapčići) \\n === Iran === \\n * Chelow kabab ( \" kebab con riso \" ): è una delle forme di kebab più comuni in Iran e combina il kebab persiano con il riso basmati allo zafferano, pane lavash, pomodori alla griglia, cipolle crude, peperoncini, funghi e sumac e spesso un contorno di insalata shirazi, mast-o-khiar e doogh. Una vecchia tradizione iraniana consisteva nel rompere il tuorlo di un uovo crudo sul riso, insieme a molto burro, appena prima di servire il kebab. \\n * Kabab barg: lombo marinato e grigliato. \\n * Kabab koobideh \\n * Kabab torsh o tursh-e-kabab: tipico del Gilan, manzo grigliato marinato in una mistura di succo di melagrana, noci schiacciate, prezzemolo, aglio schiacciato e olio d\\'oliva. \\n * Berenj goje kabab \\n * Chenjeh kabab: agnello alla griglia preparato in modo simile allo shish kebab ma senza verdure. \\n * Dandeh kebab \\n * Ghaz kabab \\n * Jujeh kabab: pollo alla griglia su spiedi, in Iran e Afghanistan. \\n * Kabab bareh: agnello alla griglia, marinato in yogurt con prezzemolo. \\n * Kabab digy \\n * Kabab Hosseini: agnello o manzo cucinato su spiedi con cipolle, pomodori e pepe verde. \\n * Kabab isphahani \\n * Kabab jigar-o del-o gholveh \\n * Kabab kermanshahi \\n * Kabab kubideh: manzo o agnello macinato (di solito il lombo), spesso mischiato con prezzemolo e cipolle a pezzi. \\n * Kabab kurdi: manzo o agnello macinato, cipolle, aglio, pomodori. \\n * Kabab loghmeh: palline di carne tritata d\\'agnello prima fritte e poi grigliate su fuoco di carbone, mangiato con prezzemolo a pezzi, cipolle a pezzi e sumac. Si consuma specialmente d\\'estate all\\'aperto. \\n * Kabab mahitabeh \\n * Kabab rashti o kabab shomali: comprende mandorle, pistacchi e berberis. \\n * Kabab shamshiri: è un grosso kebab, formato da kabab-barg su un lato e kabab-kubideh sull\\'altro. \\n * Kababe shandiz \\n * Kabab shirazi \\n * Kabab soltani: combinazione di kabab koobideh e kabab barg. \\n * Kabab bakhtiari: combinazione di jujeh kabab e kabab barg. \\n * Kabab vaziri \\n * Kabab va naan ( \" kebab con pane \" ) \\n * Kabab-e donbalan: kebab di agnello fritto \\n * Kababe barre \\n * Loghme kabab \\n * Maahi kabab: pesce alla brace con succo di limetta, olio d\\'oliva, zafferano e erbe aromatiche. \\n * Pers kabab \\n * Sonati kabab \\n \\n === Afghanistan === \\n * Jujeh kabab: lo stesso che si fa in Iran. \\n * Chenjeh kabab: originario dell\\'Afghanistan sudorientale, marinato in varie erbe e spezie. \\n * Khate aalo ke kabab \\n * Lola kabab/Gola kabab: palline di carne, originario dei Pashtun di Kandahar. \\n * Seena kabab: cosce e petto di pollo alla griglia. \\n * Shami kebab \\n \\n === Pakistan e India === \\n * Bihari kabab: pezzi di carne allo spiedo marinati in spezie. In origine piatto della cucina non vegetariana del Bihar, si è diffusa in altre regioni. \\n * Chapli kabab: diffuso in Pakistan, è fatto di carne di manzo marinata in spezie e grigliata su spiedi. \\n * Sheek kabab: fatto di carne tritata con spezie e grigliata su spiedi. Cotto in un tandoor e spesso servito con chutney o con salsa di menta. Viene spesso messo in un vassoio contenente altri esempi di piatti tandoor. Un seekh kebab può essere servito anche in un pane naan un po\\' come il döner kebab. \\n * Shami kebab: fatto di carne tritata, con pasta di lenticchie e pezzi di cipolle, coriandolo e peperoncini verdi di solito aggiunti alla mistura, che è impastata a forma di disco e fritta. Migliori risultati si ottengono quando si frigge grasso animale o ghee in un utensile d\\'ottone sui carboni. In alcuni posti viene usato un agente legante per tenere insieme il kebab. Diffuso principalmente a Lucknow, dove si dice che un tempo fosse il piatto favorito dei Nawab e della aristocrazia. \\n * Galawat kabab: variante dello shami kebab fatto senza alcuna mistura né agente legante ma solo con carne tritata e spezie. \\n * Shikampur kabab \\n * Tandoori kebab: pezzi o strisce di carne marinata in spezie e yogurt \\n * Dora kabab \\n * Reshmi kabab: kebab di pollo. \\n \\n === Azerbaigian === \\n * Lyulya kebab (in alfabeto cirillico люля-кебаб): servito su spiedini o avvolto in pane lavash. \\n * Sham kebab \\n * Tava kebab \\n \\n === Levante === \\n [[File:Kebap a Ramallah 02.JPG|thumb|upright=1.7|Kebab fatti in Palestina]] \\n * Kabab halabi: un tipo di kebab servito con una salsa di pomodoro speziata, molto comune in Siria e Libano, così chiamato dal nome della città di Aleppo (Halab). \\n * Kabab tuhal: girello di agnello farcito con prezzemolo, pepe verde caldo e pinoli  The Cooking of the Middle East, Time-Life Books, 1969.. \\n \\n === Grecia === \\n * Gyros: piccolo pezzo di carne di maiale servito nel pane pita avvolto a cono. \\n * Souvlaki (spiedo): spiedini di maiale alla brace, serviti da soli, nella pita o con insalata. \\n \\n === Cipro === \\n * Sheftalia: salsiccia tradizionale cipriota fatta di carne macinata di maiale o agnello e avvolti nella retina (grasso che ricopre gli organi interni del maiale) servito da solo o in una pita, di solito con pomodoro, zucchine, prezzemolo e limone. \\n * Souvlakia \\n * Gyros: fette di carne grigliata servite in una pita con pomodoro, cipolla e salsa tzatziki; chiamato döner kebab nella cucina turco-cipriota. \\n \\n === Altri === \\n * Biryani kebab: Kebab farcito con Biryani, piatto alla cui base vi è il riso, solitamente basmati, è una variante dell\\'Iranian Biriani o Biryani Iraniano. \\n * Ćevapčići o čevapi: in origine versione bosniaca del kebab, popolare anche in altre cucine balcaniche. \\n * Chislic: piatto del Dakota del Sud portato dagli immigrati russi e tedeschi. \\n * Gírosz: kebab ungherese servito con riso, pomodori, insalata e panna acida in un piatto; a piacere vi si può aggiungere della salsa piccante. \\n * Kapsalon: piatto olandese a base di carne shawarma grigliata con uno strato di formaggio Gouda fuso e successivamente coperta con uno strato di insalata condita e salse. \\n * Samak kebab: pesce grigliato su uno stecchino. \\n * Saté: piatto dell\\'Asia sudorientale fatto di carne affettata o tagliata a dadi, allo spiedo e alla griglia sul fuoco, quindi servito condito con varie spezie. \\n * Senjeh kebab \\n * Shashlik \\n * Shishleek: termine con vari usi, in Iran si riferisce a pezzi di agnellino alla griglia (di solito pezzi della zampa), marinati in una maniera tipica; in Palestina si riferisce a pezzi di agnello alla griglia e in Israele al tacchino alla griglia. \\n * Sosatie: piatto tipico dei malesi del Capo, minoranza etnica del Sudafrica. \\n  \\n \\n ', 'Minestrone alla genovese\\nIl minestrone alla genovese (in dialetto genovese menestrun a zeneize) è un primo piatto, come dice il nome stesso, tipico della cucina ligure ed in particolare di Genova Minestrone alla genovese. Era superba. Genova. Ricette..  \\n Appartiene alla cucina povera tipica della cucina ligure: i suoi ingredienti sono prodotti della natura di facile reperibilità, quali verdure di stagione e legumi: patate, fagioli (grixi I fagioli grigiolati sono quelli definiti & serviceId=102 & oid=247036 & backToList=false & channelId=-20104 & BV_SessionID=@@@@1865718018.1354041179@@@@ & BV_EngineID=cccdadfifhkelghcefeceffdgnndffj.0 fagiolo cenerino della Val di Vara, più conosciuti come  \" senerin \" . e balin Balin . IIS Ubertini.) oppure borlotti & id=261 Fagiolo borlotto di Mangia. Regione Liguria. Ambiente. Prodotti., zucchine, bietoline, borragine e pasta detta  \" scuccuzzù \"  Scuccuzzù. Pastificio Alta Valle Scrivia. Montoggio. o bricchetti Bricchetti. De Cecco. o taglierini) o anche riso, nonché l\\'indispensabile pesto di basilico (baxaicò).  \\n [[Immagine:Pesto4.jpg|thumb|upright=0.7|Il pesto alla ligure è indispensabile per conferire il particolare sapore al minestrone alla genovese]] \\n \\n ==Abbinamenti enogastronomici== \\n Viene servito tiepido, oppure d\\'estate anche freddo, accompagnato dal vino Vermentino. \\n \\n ==Ricette== \\n * La cuciniera genovese. Giobatta Ratto. Editore: Pagano. Genova. 1893. Minestrone con battuto all\\'aglio a pag. 79. \\n * La vera cuciniera genovese facile ed economica. ricette di Emanuele Rossi e Giobatta Ratto. Editore: Giacomo Arneodo. Torino. 189.?. Minestrone con battuto o pesto a pag. 63. \\n * . Adolfo Giaquinto.  Scuola tipografica Italo-Orientale “San Nilo”. Grottaferrata. 1931. Minestrone alla genovese a pag. 35. \\n Adolfo Giaquinto, fu cuoco apprezzato, insegnante, giornalista e poeta napoletano dialettale. In questa ricetta nel minestrone alla genovese, viene aggiunto pesto fatto col lardo, che meglio si addice al minestrone. \\n \\n']\n"
     ]
    }
   ],
   "source": [
    "# Join title and text\n",
    "\n",
    "wiki = ['\\n'.join(x) for x in zip(title_lst, clean_text_lst)]\n",
    "print(wiki)"
   ]
  },
  {
   "cell_type": "code",
   "execution_count": 24,
   "id": "8b6aac75",
   "metadata": {},
   "outputs": [],
   "source": [
    "# Write articles in txt files\n",
    "\n",
    "counter = 0\n",
    "\n",
    "for article in wiki:\n",
    "    counter += 1\n",
    "    IT_wiki_dishes = \"{}.txt\".format(counter)\n",
    "    with open(IT_wiki_dishes, \"w\") as f:\n",
    "        f.write(\"{}\".format(article))"
   ]
  }
 ],
 "metadata": {
  "kernelspec": {
   "display_name": "Python 3 (ipykernel)",
   "language": "python",
   "name": "python3"
  },
  "language_info": {
   "codemirror_mode": {
    "name": "ipython",
    "version": 3
   },
   "file_extension": ".py",
   "mimetype": "text/x-python",
   "name": "python",
   "nbconvert_exporter": "python",
   "pygments_lexer": "ipython3",
   "version": "3.7.11"
  }
 },
 "nbformat": 4,
 "nbformat_minor": 5
}
